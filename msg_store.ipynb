{
 "cells": [
  {
   "cell_type": "code",
   "execution_count": 1,
   "id": "4cd9e7ab",
   "metadata": {},
   "outputs": [],
   "source": [
    "#let us create a message store\n"
   ]
  },
  {
   "cell_type": "code",
   "execution_count": 14,
   "id": "faa53bb4",
   "metadata": {},
   "outputs": [],
   "source": [
    "#\n",
    "MAX_MSGS = 1024\n",
    "msg_store = []\n",
    "users = { }  #uid : next msg ptr"
   ]
  },
  {
   "cell_type": "code",
   "execution_count": 15,
   "id": "8d295797",
   "metadata": {},
   "outputs": [],
   "source": [
    "def add_user(uid) :\n",
    "    users[uid] = -1 #last msg index read\n",
    "    \n",
    "def del_user(uid):\n",
    "    if uid in users:\n",
    "        del users[uid]\n",
    "        \n",
    "        \n",
    "def put_msg( msg ):\n",
    "    msg_store.append(msg)\n",
    "    \n",
    "    \n",
    "def cleanup():\n",
    "    #we find the min user pointer and purge up to that\n",
    "    min_index = min(users.values())\n",
    "    for _ in range(min_index):\n",
    "        msg_store.pop(0) #just remove from the back\n",
    "        \n",
    "        \n",
    "def get_msg( uid ) :\n",
    "    users[uid] += 1\n",
    "    return msg_store[ users[uid] ]"
   ]
  },
  {
   "cell_type": "code",
   "execution_count": 32,
   "id": "0464def2",
   "metadata": {},
   "outputs": [],
   "source": [
    "cleanup()"
   ]
  },
  {
   "cell_type": "code",
   "execution_count": 35,
   "id": "b89e76a5",
   "metadata": {},
   "outputs": [],
   "source": [
    "put_msg(4)"
   ]
  },
  {
   "cell_type": "code",
   "execution_count": 36,
   "id": "9cafaacc",
   "metadata": {},
   "outputs": [
    {
     "data": {
      "text/plain": [
       "[2, 3, 4, 4]"
      ]
     },
     "execution_count": 36,
     "metadata": {},
     "output_type": "execute_result"
    }
   ],
   "source": [
    "msg_store"
   ]
  },
  {
   "cell_type": "code",
   "execution_count": 18,
   "id": "0ba1df44",
   "metadata": {},
   "outputs": [],
   "source": [
    "add_user(10)"
   ]
  },
  {
   "cell_type": "code",
   "execution_count": 29,
   "id": "f8ac1264",
   "metadata": {},
   "outputs": [
    {
     "data": {
      "text/plain": [
       "4"
      ]
     },
     "execution_count": 29,
     "metadata": {},
     "output_type": "execute_result"
    }
   ],
   "source": [
    "get_msg(20)"
   ]
  },
  {
   "cell_type": "code",
   "execution_count": 34,
   "id": "90708525",
   "metadata": {},
   "outputs": [
    {
     "data": {
      "text/plain": [
       "{10: 1, 20: 3}"
      ]
     },
     "execution_count": 34,
     "metadata": {},
     "output_type": "execute_result"
    }
   ],
   "source": [
    "users"
   ]
  },
  {
   "cell_type": "code",
   "execution_count": 21,
   "id": "b2781d05",
   "metadata": {},
   "outputs": [],
   "source": [
    "add_user(20)"
   ]
  },
  {
   "cell_type": "code",
   "execution_count": 30,
   "id": "2d1a0a9a",
   "metadata": {},
   "outputs": [
    {
     "data": {
      "text/plain": [
       "2"
      ]
     },
     "execution_count": 30,
     "metadata": {},
     "output_type": "execute_result"
    }
   ],
   "source": [
    "get_msg(10)"
   ]
  },
  {
   "cell_type": "code",
   "execution_count": null,
   "id": "04b9454f",
   "metadata": {},
   "outputs": [],
   "source": [
    "#Chat Server\n",
    "#code copied and modified from : https://github.com/grpc/grpc/blob/master/examples/python/helloworld/greeter_server.py\n",
    "from concurrent import futures\n",
    "\n",
    "import grpc\n",
    "\n",
    "import chat_pb2\n",
    "import chat_pb2_grpc\n",
    "\n",
    "from chat_pb2 import Status User Packet\n",
    "\n",
    "\n",
    "class Greeter(chat_pb2_grpc.ChatServicer):\n",
    "\n",
    "    def SayHello(self, request, context):\n",
    "        return helloworld_pb2.HelloReply(message='Hello, %s!' % request.name)\n",
    "    \n",
    "    def add_user(self, request, context):\n",
    "        \"\"\"Adds a new user to the server\n",
    "        \"\"\"\n",
    "        return Status(packets=0)\n",
    "\n",
    "\n",
    "    def del_user(self, request, context):\n",
    "        \"\"\"Deletes a user\n",
    "        \"\"\"\n",
    "        return Status(packets=0)\n",
    "\n",
    "    def get_status(self, request, context):\n",
    "        \"\"\"Get status\n",
    "        \"\"\"\n",
    "        return Status(packets=0)\n",
    "\n",
    "    def send_msg(self, request, context):\n",
    "        \"\"\"Sends a message to the server\n",
    "        \"\"\"\n",
    "        return Status(packets=0)\n",
    "\n",
    "    def get_msg(self, request, context):\n",
    "        \"\"\"Read one msg from the server\n",
    "        \"\"\"\n",
    "        return Packet(name='1')\n",
    "\n",
    "\n",
    "def serve():\n",
    "    server = grpc.server(futures.ThreadPoolExecutor(max_workers=10))\n",
    "    chat_pb2_grpc.add_ChatServicer_to_server(Chat(), server)\n",
    "    server.add_insecure_port('[::]:50051')\n",
    "    server.start()\n",
    "    server.wait_for_termination()\n",
    "\n",
    "\n",
    "if __name__ == '__main__':\n",
    "    serve()\n",
    "\n"
   ]
  },
  {
   "cell_type": "code",
   "execution_count": null,
   "id": "9f4db794",
   "metadata": {},
   "outputs": [],
   "source": []
  }
 ],
 "metadata": {
  "kernelspec": {
   "display_name": "Python 3",
   "language": "python",
   "name": "python3"
  },
  "language_info": {
   "codemirror_mode": {
    "name": "ipython",
    "version": 3
   },
   "file_extension": ".py",
   "mimetype": "text/x-python",
   "name": "python",
   "nbconvert_exporter": "python",
   "pygments_lexer": "ipython3",
   "version": "3.8.8"
  }
 },
 "nbformat": 4,
 "nbformat_minor": 5
}
